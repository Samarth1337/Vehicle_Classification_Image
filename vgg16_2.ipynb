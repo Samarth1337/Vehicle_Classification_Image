{
  "nbformat": 4,
  "nbformat_minor": 0,
  "metadata": {
    "kernelspec": {
      "name": "python3",
      "display_name": "Python 3"
    },
    "language_info": {
      "codemirror_mode": {
        "name": "ipython",
        "version": 3
      },
      "file_extension": ".py",
      "mimetype": "text/x-python",
      "name": "python",
      "nbconvert_exporter": "python",
      "pygments_lexer": "ipython3",
      "version": "3.6.2"
    },
    "colab": {
      "name": "1. Transfer Learning using architecture of pre-trained model.ipynb",
      "provenance": [],
      "collapsed_sections": [],
      "machine_shape": "hm",
      "include_colab_link": true
    },
    "accelerator": "GPU"
  },
  "cells": [
    {
      "cell_type": "markdown",
      "metadata": {
        "id": "view-in-github",
        "colab_type": "text"
      },
      "source": [
        "<a href=\"https://colab.research.google.com/github/Samarth1337/Vehicle_Classification_Image/blob/main/vgg16_2.ipynb\" target=\"_parent\"><img src=\"https://colab.research.google.com/assets/colab-badge.svg\" alt=\"Open In Colab\"/></a>"
      ]
    },
    {
      "cell_type": "code",
      "metadata": {
        "id": "HBAs6cQ7G8RM"
      },
      "source": [
        "%tensorflow_version 1.x"
      ],
      "execution_count": null,
      "outputs": []
    },
    {
      "cell_type": "markdown",
      "metadata": {
        "id": "iMnQo7P_7LWr"
      },
      "source": [
        "## Transfer Learning using architecture of pre-trained model\n",
        "\n",
        "1. Import necessary libraries\n",
        "2. Load the data\n",
        "3. Pre-Process the data\n",
        "4. Load the architecture of pretrained model\n",
        "5. Train the model\n",
        "6. Get predictions"
      ]
    },
    {
      "cell_type": "markdown",
      "metadata": {
        "id": "GhKQy59w7LXQ"
      },
      "source": [
        "## 1. Import neccessary libraries"
      ]
    },
    {
      "cell_type": "code",
      "metadata": {
        "id": "wqvacIQ37LXY"
      },
      "source": [
        "import numpy as np\n",
        "import matplotlib.pyplot as plt\n",
        "%matplotlib inline\n",
        "from glob import glob\n",
        "import pandas as pd\n",
        "from sklearn.model_selection import train_test_split\n",
        "from sklearn.metrics import accuracy_score\n",
        "\n",
        "from keras.models import Model\n",
        "from keras.utils import to_categorical\n",
        "from keras.applications.vgg16 import preprocess_input\n",
        "from keras.applications.vgg16 import VGG16\n",
        "from keras.models import Sequential\n",
        "from keras.layers import Dense, InputLayer"
      ],
      "execution_count": null,
      "outputs": []
    },
    {
      "cell_type": "markdown",
      "metadata": {
        "id": "a3Bk_xGH7LXm"
      },
      "source": [
        "## 2. Load the data"
      ]
    },
    {
      "cell_type": "code",
      "metadata": {
        "id": "x_VY_HZ5hm-z"
      },
      "source": [
        "from google.colab import drive\n",
        "drive.mount('/content/drive')"
      ],
      "execution_count": null,
      "outputs": []
    },
    {
      "cell_type": "code",
      "metadata": {
        "id": "1bb6wmB1hmvk"
      },
      "source": [
        "# unzipping the Dataset.zip file\n",
        "!unzip /content/drive/My\\ Drive/Dataset.zip"
      ],
      "execution_count": null,
      "outputs": []
    },
    {
      "cell_type": "code",
      "metadata": {
        "id": "bBoa3LGa7LXq"
      },
      "source": [
        "data = pd.read_csv('Dataset/emergency_classification.csv')"
      ],
      "execution_count": null,
      "outputs": []
    },
    {
      "cell_type": "code",
      "metadata": {
        "id": "IniNNq067LYF"
      },
      "source": [
        "X = []\n",
        "\n",
        "for img_name in data.image_names:\n",
        "    img = plt.imread('Dataset/images/' + img_name)\n",
        "    X.append(img)\n",
        "X = np.array(X)"
      ],
      "execution_count": null,
      "outputs": []
    },
    {
      "cell_type": "code",
      "metadata": {
        "id": "3Vvni78T7LYP"
      },
      "source": [
        "y = data.emergency_or_not.values"
      ],
      "execution_count": null,
      "outputs": []
    },
    {
      "cell_type": "markdown",
      "metadata": {
        "id": "uf5qmAzL7LY8"
      },
      "source": [
        "## 3. Pre-Process the data"
      ]
    },
    {
      "cell_type": "markdown",
      "metadata": {
        "id": "XVsVf1nq7LZA"
      },
      "source": [
        "Steps : \n",
        "1. Pre-process the data as per model's requirement\n",
        "2. Prepare training and validation set"
      ]
    },
    {
      "cell_type": "code",
      "metadata": {
        "id": "r_5xd5KU7LZR"
      },
      "source": [
        "X = preprocess_input(X, mode='tf')"
      ],
      "execution_count": null,
      "outputs": []
    },
    {
      "cell_type": "code",
      "metadata": {
        "id": "E6l8ry2I6fLH"
      },
      "source": [
        "#converting label to categorical i.e instead of 0/1 labels we have 2 columns emergency and non-emergency\n",
        "# with only one of them is true for every image\n",
        "y = to_categorical(y)"
      ],
      "execution_count": null,
      "outputs": []
    },
    {
      "cell_type": "code",
      "metadata": {
        "id": "FsCCm9bc7LZm"
      },
      "source": [
        "X_train, X_valid, y_train, y_valid = train_test_split(X, y, test_size=0.3, random_state=42)"
      ],
      "execution_count": null,
      "outputs": []
    },
    {
      "cell_type": "markdown",
      "metadata": {
        "id": "4DMgEvEB7LZx"
      },
      "source": [
        "## 4. Load the architecture of pretrained model"
      ]
    },
    {
      "cell_type": "code",
      "metadata": {
        "id": "bqtH_K4f7LZz"
      },
      "source": [
        "base_model = VGG16(weights='imagenet')"
      ],
      "execution_count": null,
      "outputs": []
    },
    {
      "cell_type": "code",
      "metadata": {
        "id": "7KcP5C9l7LZ8"
      },
      "source": [
        "base_model.summary()"
      ],
      "execution_count": null,
      "outputs": []
    },
    {
      "cell_type": "code",
      "metadata": {
        "id": "QC0-nMWFlvG2"
      },
      "source": [
        "x = Dense(100, activation='relu', name='fc1')(base_model.layers[-4].output)\n",
        "y = Dense(2, activation='softmax', name='prediction')(x)\n",
        "my_model = Model(input=base_model.input, output=y)\n",
        "my_model.summary()"
      ],
      "execution_count": null,
      "outputs": []
    },
    {
      "cell_type": "code",
      "metadata": {
        "id": "FjLMQ96R7Lb1"
      },
      "source": [
        "my_model.compile(optimizer='sgd', metrics=['accuracy'], loss='categorical_crossentropy')"
      ],
      "execution_count": null,
      "outputs": []
    },
    {
      "cell_type": "markdown",
      "metadata": {
        "id": "OVfit0i9klBv"
      },
      "source": [
        "## 5. Train the model"
      ]
    },
    {
      "cell_type": "code",
      "metadata": {
        "scrolled": true,
        "id": "THtHpHrE7Lb-"
      },
      "source": [
        "my_model.fit(X_train, y_train, epochs=10, validation_data=(X_valid, y_valid))"
      ],
      "execution_count": null,
      "outputs": []
    },
    {
      "cell_type": "markdown",
      "metadata": {
        "id": "cooberaE7LcD"
      },
      "source": [
        "## 6. Get Predictions"
      ]
    },
    {
      "cell_type": "code",
      "metadata": {
        "id": "8PV5cC9-7LcE"
      },
      "source": [
        "predictions = my_model.predict(X_valid)\n",
        "predicted_class = np.argmax(predictions,axis=1)"
      ],
      "execution_count": null,
      "outputs": []
    },
    {
      "cell_type": "code",
      "metadata": {
        "id": "F-V9tGe2q5IN"
      },
      "source": [
        "accuracy_score(y_valid[:,1], predicted_class)"
      ],
      "execution_count": null,
      "outputs": []
    }
  ]
}